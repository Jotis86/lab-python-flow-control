{
 "cells": [
  {
   "cell_type": "markdown",
   "id": "d3bfc191-8885-42ee-b0a0-bbab867c6f9f",
   "metadata": {
    "tags": []
   },
   "source": [
    "# Lab | Flow Control"
   ]
  },
  {
   "cell_type": "markdown",
   "id": "3851fcd1-cf98-4653-9c89-e003b7ec9400",
   "metadata": {},
   "source": [
    "## Exercise: Managing Customer Orders Optimized\n",
    "\n",
    "In the last lab, you were starting an online store that sells various products. To ensure smooth operations, you developed a program that manages customer orders and inventory.\n",
    "\n",
    "You did so without using flow control. Let's go a step further and improve this code.\n",
    "\n",
    "Follow the steps below to complete the exercise:\n",
    "\n",
    "1. Look at your code from the lab data structures, and improve repeated code with loops.\n",
    "\n",
    "2. Instead of asking the user to input the name of three products that a customer wants to order, do the following:\n",
    "    \n",
    "    a. Prompt the user to enter the name of a product that a customer wants to order.\n",
    "    \n",
    "    b. Add the product name to the \"customer_orders\" set.\n",
    "    \n",
    "    c. Ask the user if they want to add another product (yes/no).\n",
    "    \n",
    "    d. Continue the loop until the user does not want to add another product.\n",
    "\n",
    "3. Instead of updating the inventory by subtracting 1 from the quantity of each product, only do it for  the products that were ordered (those in \"customer_orders\")."
   ]
  },
  {
   "cell_type": "code",
   "execution_count": 1,
   "id": "824fbca3",
   "metadata": {},
   "outputs": [],
   "source": [
    "# Step 1: Define a list called `products` that contains the items available in the store\n",
    "products = [\"t-shirt\", \"mug\", \"hat\", \"book\", \"keychain\"]"
   ]
  },
  {
   "cell_type": "code",
   "execution_count": 2,
   "id": "3ee0b9a4",
   "metadata": {},
   "outputs": [],
   "source": [
    "# Step 2: Create an empty dictionary called `inventory` to store the quantity of each product\n",
    "inventory = {}"
   ]
  },
  {
   "cell_type": "code",
   "execution_count": 4,
   "id": "13433d30",
   "metadata": {},
   "outputs": [],
   "source": [
    "# Step 3: Ask the user to input the quantity of each product available in the inventory\n",
    "# Use the product names from the `products` list as keys in the `inventory` dictionary\n",
    "for product in products:\n",
    "    quantity = int(input(f\"Enter the quantity for {product}: \"))\n",
    "    inventory[product] = quantity"
   ]
  },
  {
   "cell_type": "code",
   "execution_count": 5,
   "id": "4b4f155e",
   "metadata": {},
   "outputs": [],
   "source": [
    "# Step 4: Create an empty set called `customer_orders` to store the products ordered by the customer\n",
    "customer_orders = set()"
   ]
  },
  {
   "cell_type": "code",
   "execution_count": 6,
   "id": "0ff0879f",
   "metadata": {},
   "outputs": [],
   "source": [
    "# Step 5: Ask the user to input the name of products that a customer wants to order\n",
    "# Add each product name to the `customer_orders` set\n",
    "while True:\n",
    "    order = input(\"Enter the name of the product to order: \").strip().lower()\n",
    "    if order in products:\n",
    "        customer_orders.add(order)\n",
    "    else:\n",
    "        print(f\"{order} is not a valid product.\")\n",
    "    \n",
    "    another = input(\"Do you want to add another product? (yes/no): \").strip().lower()\n",
    "    if another != 'yes':\n",
    "        break"
   ]
  },
  {
   "cell_type": "code",
   "execution_count": 7,
   "id": "a611ee7e",
   "metadata": {},
   "outputs": [
    {
     "name": "stdout",
     "output_type": "stream",
     "text": [
      "Customer Orders: {'hat', 'book'}\n"
     ]
    }
   ],
   "source": [
    "# Step 6: Print the products in the `customer_orders` set\n",
    "print(\"Customer Orders:\", customer_orders)"
   ]
  },
  {
   "cell_type": "code",
   "execution_count": 8,
   "id": "8134cf16",
   "metadata": {},
   "outputs": [],
   "source": [
    "# Step 7: Calculate the order statistics\n",
    "# Total Products Ordered: The total number of products in the `customer_orders` set\n",
    "# Percentage of Products Ordered: The percentage of products ordered compared to the total available products\n",
    "total_products_ordered = len(customer_orders)\n",
    "percentage_ordered = (total_products_ordered / len(products)) * 100\n",
    "order_status = (total_products_ordered, percentage_ordered)"
   ]
  },
  {
   "cell_type": "code",
   "execution_count": 9,
   "id": "e228a30c",
   "metadata": {},
   "outputs": [
    {
     "name": "stdout",
     "output_type": "stream",
     "text": [
      "Order Statistics:\n",
      "Total Products Ordered: 2\n",
      "Percentage of Products Ordered: 40.00%\n"
     ]
    }
   ],
   "source": [
    "# Step 8: Print the order statistics\n",
    "print(\"Order Statistics:\")\n",
    "print(f\"Total Products Ordered: {order_status[0]}\")\n",
    "print(f\"Percentage of Products Ordered: {order_status[1]:.2f}%\")"
   ]
  },
  {
   "cell_type": "code",
   "execution_count": 10,
   "id": "25b895ef",
   "metadata": {},
   "outputs": [],
   "source": [
    "# Step 9: Update the inventory by subtracting 1 from the quantity of each product ordered\n",
    "for product in customer_orders:\n",
    "    if inventory[product] > 0:\n",
    "        inventory[product] -= 1\n",
    "    else:\n",
    "        print(f\"{product} is out of stock.\")"
   ]
  },
  {
   "cell_type": "code",
   "execution_count": 11,
   "id": "9b0aa76e",
   "metadata": {},
   "outputs": [
    {
     "name": "stdout",
     "output_type": "stream",
     "text": [
      "Updated Inventory:\n",
      "t-shirt: 5\n",
      "mug: 4\n",
      "hat: 6\n",
      "book: 5\n",
      "keychain: 2\n"
     ]
    }
   ],
   "source": [
    "# Step 10: Print the updated inventory, displaying the quantity of each product on separate lines\n",
    "print(\"Updated Inventory:\")\n",
    "for product, quantity in inventory.items():\n",
    "    print(f\"{product}: {quantity}\")"
   ]
  }
 ],
 "metadata": {
  "kernelspec": {
   "display_name": "Python 3 (ipykernel)",
   "language": "python",
   "name": "python3"
  },
  "language_info": {
   "codemirror_mode": {
    "name": "ipython",
    "version": 3
   },
   "file_extension": ".py",
   "mimetype": "text/x-python",
   "name": "python",
   "nbconvert_exporter": "python",
   "pygments_lexer": "ipython3",
   "version": "3.11.7"
  }
 },
 "nbformat": 4,
 "nbformat_minor": 5
}
